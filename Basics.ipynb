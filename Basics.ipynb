{
 "cells": [
  {
   "cell_type": "markdown",
   "metadata": {
    "collapsed": true
   },
   "source": [
    "*This notebook is a guided project from datquest course (data analyst path)*"
   ]
  },
  {
   "cell_type": "markdown",
   "metadata": {},
   "source": [
    "# Exploring Hacker News Posts\n",
    "[Hacker News](https://news.ycombinator.com/) is a site started by the startup incubator Y Combinator, where user-submitted stories (known as \"posts\") are voted and commented upon, similar to reddit. Hacker News is extremely popular in technology and startup circles, and posts that make it to the top of Hacker News' listings can get hundreds of thousands of visitors as a result.\n",
    "\n",
    "\n",
    "\n"
   ]
  },
  {
   "cell_type": "markdown",
   "metadata": {},
   "source": [
    "You can find the data set [here](./hacker_news.csv), but note that it has been reduced from almost 300,000 rows to approximately 20,000 rows by removing all submissions that did not receive any comments, and then randomly sampling from the remaining submissions. Below are descriptions of the columns:\n",
    "\n",
    "    id: The unique identifier from Hacker News for the post\n",
    "    title: The title of the post\n",
    "    url: The URL that the posts links to, if it the post has a URL\n",
    "    num_points: The number of points the post acquired, calculated as the total number of upvotes minus the total number of downvotes\n",
    "    num_comments: The number of comments that were made on the post\n",
    "    author: The username of the person who submitted the post\n",
    "    created_at: The date and time at which the post was submitted\n"
   ]
  },
  {
   "cell_type": "markdown",
   "metadata": {},
   "source": [
    ">We're specifically interested in posts whose titles begin with either **Ask HN**(submited when user want to ask the Hacker News community a specific question) or **Show HN**(Submited when user want to show the Hacker News Community a project)\n",
    "We'll compare these two types of posts to determine the following:\n",
    "\n",
    "    Do Ask HN or Show HN receive more comments on average?\n",
    "    Do posts created at a certain time receive more comments on average?"
   ]
  },
  {
   "cell_type": "markdown",
   "metadata": {},
   "source": [
    "Let's start by importing the libraries we need and reading the data set into a list of lists."
   ]
  },
  {
   "cell_type": "code",
   "execution_count": 2,
   "metadata": {},
   "outputs": [
    {
     "name": "stdout",
     "output_type": "stream",
     "text": [
      "[['id', 'title', 'url', 'num_points', 'num_comments', 'author', 'created_at'], ['12224879', 'Interactive Dynamic Video', 'http://www.interactivedynamicvideo.com/', '386', '52', 'ne0phyte', '8/4/2016 11:52'], ['10975351', 'How to Use Open Source and Shut the Fuck Up at the Same Time', 'http://hueniverse.com/2016/01/26/how-to-use-open-source-and-shut-the-fuck-up-at-the-same-time/', '39', '10', 'josep2', '1/26/2016 19:30'], ['11964716', \"Florida DJs May Face Felony for April Fools' Water Joke\", 'http://www.thewire.com/entertainment/2013/04/florida-djs-april-fools-water-joke/63798/', '2', '1', 'vezycash', '6/23/2016 22:20'], ['11919867', 'Technology ventures: From Idea to Enterprise', 'https://www.amazon.com/Technology-Ventures-Enterprise-Thomas-Byers/dp/0073523429', '3', '1', 'hswarna', '6/17/2016 0:01']]\n"
     ]
    }
   ],
   "source": [
    "from csv import reader \n",
    "file=open(\"hacker_news.csv\")\n",
    "file_read=reader(file)\n",
    "hn=list(file_read)\n",
    "print(hn[:5])"
   ]
  },
  {
   "cell_type": "markdown",
   "metadata": {},
   "source": [
    "You clearly can notice that the first row of what we just printed above is different : it's the header row. \n",
    "    This row doen't take part in the analysis process and therefore should be seperated.\n",
    "    **--> We ll save the first row in a list named header.**"
   ]
  },
  {
   "cell_type": "code",
   "execution_count": 3,
   "metadata": {},
   "outputs": [
    {
     "name": "stdout",
     "output_type": "stream",
     "text": [
      "['id', 'title', 'url', 'num_points', 'num_comments', 'author', 'created_at']\n",
      "[['12224879', 'Interactive Dynamic Video', 'http://www.interactivedynamicvideo.com/', '386', '52', 'ne0phyte', '8/4/2016 11:52'], ['10975351', 'How to Use Open Source and Shut the Fuck Up at the Same Time', 'http://hueniverse.com/2016/01/26/how-to-use-open-source-and-shut-the-fuck-up-at-the-same-time/', '39', '10', 'josep2', '1/26/2016 19:30'], ['11964716', \"Florida DJs May Face Felony for April Fools' Water Joke\", 'http://www.thewire.com/entertainment/2013/04/florida-djs-april-fools-water-joke/63798/', '2', '1', 'vezycash', '6/23/2016 22:20'], ['11919867', 'Technology ventures: From Idea to Enterprise', 'https://www.amazon.com/Technology-Ventures-Enterprise-Thomas-Byers/dp/0073523429', '3', '1', 'hswarna', '6/17/2016 0:01'], ['10301696', 'Note by Note: The Making of Steinway L1037 (2007)', 'http://www.nytimes.com/2007/11/07/movies/07stein.html?_r=0', '8', '2', 'walterbell', '9/30/2015 4:12']]\n"
     ]
    }
   ],
   "source": [
    "header=hn[0]\n",
    "hn=hn[1:]\n",
    "print(header)\n",
    "print(hn[:5])"
   ]
  },
  {
   "cell_type": "markdown",
   "metadata": {},
   "source": [
    "Now that we've removed the headers apart, we're ready to filter our data. Since we're only concerned with post titles beginning with Ask HN or Show HN, we'll create new lists of lists (2 lists, one for each type) containing just the data for those titles to work with"
   ]
  },
  {
   "cell_type": "code",
   "execution_count": 5,
   "metadata": {},
   "outputs": [
    {
     "name": "stdout",
     "output_type": "stream",
     "text": [
      "The number of ask post : 1744\n",
      "The number of show post : 1162\n",
      "The number of other post : 17194\n"
     ]
    }
   ],
   "source": [
    "ask_posts=[]\n",
    "show_posts=[]\n",
    "other_posts=[]\n",
    "for row in hn:\n",
    "    title=row[1]\n",
    "    title=title.lower()\n",
    "    if title.startswith('ask hn'):\n",
    "        ask_posts.append(row)\n",
    "    elif title.startswith('show hn'):\n",
    "        show_posts.append(row)\n",
    "    else:\n",
    "        other_posts.append(row)\n",
    "#Let's print the number of posts for each type        \n",
    "print(\"The number of ask post :\", len(ask_posts))\n",
    "print(\"The number of show post :\", len(show_posts))\n",
    "print(\"The number of other post :\", len(other_posts))"
   ]
  },
  {
   "cell_type": "markdown",
   "metadata": {},
   "source": [
    "Now we are going to determine if ask posts or show posts receive more comments on average."
   ]
  },
  {
   "cell_type": "code",
   "execution_count": 6,
   "metadata": {},
   "outputs": [
    {
     "name": "stdout",
     "output_type": "stream",
     "text": [
      "The average of the ask post comments :  14.038417431192661\n"
     ]
    }
   ],
   "source": [
    "total_ask_comments=0\n",
    "for row in ask_posts:\n",
    "    num_comments=int(row[4])\n",
    "    total_ask_comments+=num_comments\n",
    "avg_ask_comments=total_ask_comments/len(ask_posts)\n",
    "print('The average of the ask post comments : ' ,avg_ask_comments)"
   ]
  },
  {
   "cell_type": "code",
   "execution_count": 7,
   "metadata": {},
   "outputs": [
    {
     "name": "stdout",
     "output_type": "stream",
     "text": [
      "The average of the show post comments :  10.31669535283993\n"
     ]
    }
   ],
   "source": [
    "total_show_comments=0\n",
    "for row in show_posts:\n",
    "    num_comments=int(row[4])\n",
    "    total_show_comments+=num_comments\n",
    "avg_show_comments=total_show_comments/len(show_posts)\n",
    "print('The average of the show post comments : ' ,avg_show_comments)"
   ]
  },
  {
   "cell_type": "markdown",
   "metadata": {},
   "source": [
    "From the two cells above where we calculated the average of each type comments per posts, we found that ask posts receive more comments on average than the show posts.\n",
    "which is logical because the users tends to responds to question in comments."
   ]
  },
  {
   "cell_type": "markdown",
   "metadata": {},
   "source": [
    "Since ask posts are more likely to receive comments, **we'll focus our remaining analysis just on these posts.** "
   ]
  },
  {
   "cell_type": "markdown",
   "metadata": {},
   "source": [
    "Next, we'll determine if ask posts created at a **certain time** are **more likely** to attract comments. We'll use the following steps to perform this analysis:\n",
    "\n",
    "    Calculate the amount of ask posts created in each hour of the day, along with the number of comments received.\n",
    "    Calculate the average number of comments ask posts receive by hour created.\n"
   ]
  },
  {
   "cell_type": "markdown",
   "metadata": {},
   "source": [
    "For the first step (Calculate the amount of ask posts created in each hour of the day with their number of comments) we are going to use 2 dictionary:\n",
    "* The first will countain the number of post per hour\n",
    "\n",
    "* The second one the number of comments per hour\n"
   ]
  },
  {
   "cell_type": "code",
   "execution_count": 8,
   "metadata": {},
   "outputs": [
    {
     "name": "stdout",
     "output_type": "stream",
     "text": [
      "Number of post per hour : \n",
      " {'09': 45, '13': 85, '10': 59, '14': 107, '16': 108, '23': 68, '12': 73, '17': 100, '15': 116, '21': 109, '20': 80, '02': 58, '18': 109, '03': 54, '05': 46, '19': 110, '01': 60, '22': 71, '08': 48, '04': 47, '00': 55, '06': 44, '07': 34, '11': 58} \n",
      "\n",
      "Number of comments per hour : \n",
      " {'09': 251, '13': 1253, '10': 793, '14': 1416, '16': 1814, '23': 543, '12': 687, '17': 1146, '15': 4477, '21': 1745, '20': 1722, '02': 1381, '18': 1439, '03': 421, '05': 464, '19': 1188, '01': 683, '22': 479, '08': 492, '04': 337, '00': 447, '06': 397, '07': 267, '11': 641}\n"
     ]
    }
   ],
   "source": [
    "import datetime as dt\n",
    "result_list=[]\n",
    "for row in ask_posts:\n",
    "    created_at=row[6]\n",
    "    nb_comments=int(row[4])\n",
    "    result_list.append([created_at,nb_comments])\n",
    "counts_by_hour={}\n",
    "comments_by_hour={}\n",
    "for row in result_list:\n",
    "    date_1=row[0]\n",
    "    nb_commments=row[1]\n",
    "    #the created_at column of our dataset contain the date in a string format.\n",
    "    #we need to use the strptime and strftime method from datetime in order to \n",
    "    #parse date from the string format\n",
    "    date_2=dt.datetime.strptime(date_1,\"%m/%d/%Y %H:%M\")\n",
    "    hour=date_2.strftime(\"%H\")\n",
    "    if hour not in counts_by_hour:\n",
    "        counts_by_hour[hour]=1\n",
    "        comments_by_hour[hour]=nb_commments\n",
    "    else:\n",
    "        counts_by_hour[hour]+=1\n",
    "        comments_by_hour[hour]+=nb_commments\n",
    "print('Number of post per hour : \\n' ,counts_by_hour ,'\\n')  \n",
    "print('Number of comments per hour : \\n' ,comments_by_hour )"
   ]
  },
  {
   "cell_type": "markdown",
   "metadata": {},
   "source": [
    "In the last screen, we created two dictionaries:\n",
    "\n",
    "    counts_by_hour: contains the number of ask posts created during each hour of the day.\n",
    "    comments_by_hour: contains the corresponding number of comments ask posts created at each hour received.\n",
    "\n",
    "Next, we'll use these two dictionaries to calculate the average number of comments for posts created during each hour of the day. "
   ]
  },
  {
   "cell_type": "code",
   "execution_count": 9,
   "metadata": {},
   "outputs": [
    {
     "name": "stdout",
     "output_type": "stream",
     "text": [
      " Averege of comments and post per hour : \n",
      " [['09', 5.5777777777777775], ['13', 14.741176470588234], ['10', 13.440677966101696], ['14', 13.233644859813085], ['16', 16.796296296296298], ['23', 7.985294117647059], ['12', 9.41095890410959], ['17', 11.46], ['15', 38.5948275862069], ['21', 16.009174311926607], ['20', 21.525], ['02', 23.810344827586206], ['18', 13.20183486238532], ['03', 7.796296296296297], ['05', 10.08695652173913], ['19', 10.8], ['01', 11.383333333333333], ['22', 6.746478873239437], ['08', 10.25], ['04', 7.170212765957447], ['00', 8.127272727272727], ['06', 9.022727272727273], ['07', 7.852941176470588], ['11', 11.051724137931034]]\n"
     ]
    }
   ],
   "source": [
    "# we'll use a list of list to store the average amount of comments `Ask HN` posts \n",
    "#created at each hour of the day (each sublist should countain the nb of comments and of post in a specific hour).\n",
    "#the main list is indexed with the hour\n",
    "avg_by_hour = []\n",
    "\n",
    "for hr in comments_by_hour:\n",
    "    avg_by_hour.append([hr, comments_by_hour[hr] / counts_by_hour[hr]])\n",
    "\n",
    "print(' Averege of comments and post per hour : \\n' ,avg_by_hour)"
   ]
  },
  {
   "cell_type": "markdown",
   "metadata": {},
   "source": [
    "In the last screen, we calculated the average number of comments for posts created during each hour of the day, and stored the results in a list of lists named avg_by_hour."
   ]
  },
  {
   "cell_type": "markdown",
   "metadata": {},
   "source": [
    "Although we now have the results we need, this format makes it hard to identify the hours with the highest values. Let's finish by sorting the list of lists and printing the five highest values in a format that's easier to read."
   ]
  },
  {
   "cell_type": "code",
   "execution_count": 10,
   "metadata": {},
   "outputs": [
    {
     "name": "stdout",
     "output_type": "stream",
     "text": [
      "[[5.5777777777777775, '09'], [14.741176470588234, '13'], [13.440677966101696, '10'], [13.233644859813085, '14'], [16.796296296296298, '16'], [7.985294117647059, '23'], [9.41095890410959, '12'], [11.46, '17'], [38.5948275862069, '15'], [16.009174311926607, '21'], [21.525, '20'], [23.810344827586206, '02'], [13.20183486238532, '18'], [7.796296296296297, '03'], [10.08695652173913, '05'], [10.8, '19'], [11.383333333333333, '01'], [6.746478873239437, '22'], [10.25, '08'], [7.170212765957447, '04'], [8.127272727272727, '00'], [9.022727272727273, '06'], [7.852941176470588, '07'], [11.051724137931034, '11']]\n",
      " \n",
      "Top 5 Hours for Ask Posts Comments \n",
      " [[38.5948275862069, '15'], [23.810344827586206, '02'], [21.525, '20'], [16.796296296296298, '16'], [16.009174311926607, '21']]\n"
     ]
    }
   ],
   "source": [
    "#we need to swap our avg_by_hour list of lists because the sorted function in python sort a list of lists\n",
    "#acording to the values in the first columns wich should be the average in our case\n",
    "swap_avg_by_hour=[]\n",
    "for row in avg_by_hour:\n",
    "    swap_avg_by_hour.append([row[1], row[0]])\n",
    "print(swap_avg_by_hour)  \n",
    "sorted_swap=sorted(swap_avg_by_hour,reverse=True)\n",
    "print(\" \\nTop 5 Hours for Ask Posts Comments \\n\" ,sorted_swap[:5])"
   ]
  },
  {
   "cell_type": "code",
   "execution_count": 11,
   "metadata": {
    "scrolled": true
   },
   "outputs": [
    {
     "name": "stdout",
     "output_type": "stream",
     "text": [
      "Top 5 hour for the average of comments per post : \n",
      "\n",
      "15:00 38.59 average comments per post\n",
      "02:00 23.81 average comments per post\n",
      "20:00 21.52 average comments per post\n",
      "16:00 16.80 average comments per post\n",
      "21:00 16.01 average comments per post\n"
     ]
    }
   ],
   "source": [
    "#printing the top 5 average comments per post per hour\n",
    "template=\"{hour} {avg:.2f} average comments per post\"\n",
    "print('Top 5 hour for the average of comments per post : \\n')\n",
    "for row in sorted_swap[:5]:\n",
    "    h=dt.datetime.strptime(row[1], \"%H\").strftime(\"%H:%M\")\n",
    "    print(template.format(hour=h, avg=row[0]))"
   ]
  },
  {
   "cell_type": "markdown",
   "metadata": {},
   "source": [
    "# The time users have a higher chance of receiving answers on their ask posts\n",
    "According to the result above we found that the hour user should create a post (an ask post specially) during, in order to have a higher chance of receiving comments is at **15:00** acording to the the time zone is Eastern Time in the US where the data where collected, wich means at **23:00** according to time in Algiers, Algeria."
   ]
  },
  {
   "cell_type": "markdown",
   "metadata": {},
   "source": [
    "** All the next parts isn't included in the guided project **"
   ]
  },
  {
   "cell_type": "markdown",
   "metadata": {},
   "source": [
    "# Part 2:\n",
    "Next we are going to define the type of posts that receive more points on average.\n"
   ]
  },
  {
   "cell_type": "code",
   "execution_count": 13,
   "metadata": {},
   "outputs": [
    {
     "name": "stdout",
     "output_type": "stream",
     "text": [
      "The average of the ask post point :  15.061926605504587\n"
     ]
    }
   ],
   "source": [
    "#the ask posts\n",
    "total_ask_point=0\n",
    "for row in ask_posts:\n",
    "    num_point=int(row[3])\n",
    "    total_ask_point+=num_point\n",
    "avg_ask_point=total_ask_point/len(ask_posts)\n",
    "print('The average of the ask post point : ' ,avg_ask_point)\n"
   ]
  },
  {
   "cell_type": "code",
   "execution_count": 16,
   "metadata": {},
   "outputs": [
    {
     "name": "stdout",
     "output_type": "stream",
     "text": [
      "The average of the show post point :  27.555077452667813\n"
     ]
    }
   ],
   "source": [
    "#the show posts\n",
    "total_show_point=0\n",
    "for row in show_posts:\n",
    "    num_point=int(row[3])\n",
    "    total_show_point+=num_point\n",
    "avg_show_point=total_show_point/len(show_posts)\n",
    "print('The average of the show post point : ' ,avg_show_point)\n"
   ]
  },
  {
   "cell_type": "markdown",
   "metadata": {},
   "source": [
    "From the result above we conclude that a show post is more likely to receive points than an ask post."
   ]
  },
  {
   "cell_type": "markdown",
   "metadata": {},
   "source": [
    "# Part 3:\n",
    "Now let's determine if posts created at a certain time are more likely to receive more points."
   ]
  },
  {
   "cell_type": "markdown",
   "metadata": {},
   "source": [
    "Since show posts are more likely to receive comments,**we'll focus our remaining analysis just on these posts.**"
   ]
  },
  {
   "cell_type": "markdown",
   "metadata": {},
   "source": [
    "First we ll create a dictionary containing the points per hour for the show posts "
   ]
  },
  {
   "cell_type": "code",
   "execution_count": 18,
   "metadata": {},
   "outputs": [
    {
     "name": "stdout",
     "output_type": "stream",
     "text": [
      "The number of point show posts receive per hour: {'14': 86, '22': 46, '18': 61, '07': 26, '20': 60, '05': 19, '16': 93, '19': 55, '15': 78, '03': 27, '17': 93, '06': 16, '02': 30, '13': 99, '08': 34, '21': 47, '04': 26, '11': 44, '12': 61, '23': 36, '09': 30, '01': 28, '10': 36, '00': 31}\n"
     ]
    }
   ],
   "source": [
    "import datetime as dt\n",
    "result_list2=[]\n",
    "for row in show_posts:\n",
    "    created_at=row[6]\n",
    "    point=int(row[3])\n",
    "    result_list2.append([created_at,point])\n",
    "point_per_hour={}\n",
    "for row in result_list2:\n",
    "    date_1=row[0]\n",
    "    nb_points=row[1]\n",
    "    #the created_at column of our dataset contain the date in a string format.\n",
    "    #we need to use the strptime and strftime method from datetime in order to \n",
    "    #parse date from the string format\n",
    "    date_2=dt.datetime.strptime(date_1,\"%m/%d/%Y %H:%M\")\n",
    "    hour=date_2.strftime(\"%H\")\n",
    "    if hour not in point_per_hour:\n",
    "        point_per_hour[hour]=1\n",
    "        \n",
    "    else:\n",
    "        point_per_hour[hour]+=1\n",
    "print('The number of point show posts receive per hour:' ,point_per_hour)        "
   ]
  },
  {
   "cell_type": "markdown",
   "metadata": {},
   "source": [
    "Next, we are going to sorte the previous value in an ascending way using a list of lists and print the firsts value "
   ]
  },
  {
   "cell_type": "code",
   "execution_count": 22,
   "metadata": {},
   "outputs": [
    {
     "name": "stdout",
     "output_type": "stream",
     "text": [
      "[[86, '14'], [46, '22'], [61, '18'], [26, '07'], [60, '20'], [19, '05'], [93, '16'], [55, '19'], [78, '15'], [27, '03'], [93, '17'], [16, '06'], [30, '02'], [99, '13'], [34, '08'], [47, '21'], [26, '04'], [44, '11'], [61, '12'], [36, '23'], [30, '09'], [28, '01'], [36, '10'], [31, '00']]\n"
     ]
    }
   ],
   "source": [
    "point_per_hour_list=[]\n",
    "for hour in point_per_hour:\n",
    "    #we put the points value in the first column because it s the one\n",
    "    #used to sorte a list by sorted function\n",
    "    point_per_hour_list.append([point_per_hour[hour], hour])\n",
    "print(point_per_hour_list)    "
   ]
  },
  {
   "cell_type": "markdown",
   "metadata": {},
   "source": [
    "Sorting and printing the higher point "
   ]
  },
  {
   "cell_type": "code",
   "execution_count": 24,
   "metadata": {},
   "outputs": [
    {
     "name": "stdout",
     "output_type": "stream",
     "text": [
      " \n",
      "Top 5 Hours for show Posts points \n",
      " [[99, '13'], [93, '17'], [93, '16'], [86, '14'], [78, '15']]\n"
     ]
    }
   ],
   "source": [
    "sorted_point_per_hour=sorted(point_per_hour_list,reverse=True)\n",
    "print(\" \\nTop 5 Hours for show Posts points \\n\" ,sorted_point_per_hour[:5])"
   ]
  },
  {
   "cell_type": "code",
   "execution_count": 28,
   "metadata": {},
   "outputs": [
    {
     "name": "stdout",
     "output_type": "stream",
     "text": [
      "Top 5 hour for receiving  comments per post : \n",
      "\n",
      "13:00 : 99.00 points per post\n",
      "17:00 : 93.00 points per post\n",
      "16:00 : 93.00 points per post\n",
      "14:00 : 86.00 points per post\n",
      "15:00 : 78.00 points per post\n"
     ]
    }
   ],
   "source": [
    "template2=\"{hour} : {nb:.2f} points per post\"\n",
    "print('Top 5 hour for receiving  comments per post : \\n')\n",
    "for row in sorted_point_per_hour[:5]:\n",
    "    h=dt.datetime.strptime(row[1], \"%H\").strftime(\"%H:%M\")\n",
    "    print(template2.format(hour=h, nb=row[0]))"
   ]
  },
  {
   "cell_type": "markdown",
   "metadata": {},
   "source": [
    "# The time users have a higher chance of receiving point on their  posts\n",
    "\n",
    "According to the result above we found that the hour user should create a post (a show post specially) during, in order to have a higher chance of receiving comments is at 13:00 acording to the the time zone is Eastern Time in the US where the data where collected, wich means at 21:00 according to time in Algiers, Algeria.\n",
    "\n"
   ]
  },
  {
   "cell_type": "markdown",
   "metadata": {},
   "source": [
    "## Conclusion :\n"
   ]
  }
 ],
 "metadata": {
  "kernelspec": {
   "display_name": "Python 3",
   "language": "python",
   "name": "python3"
  },
  "language_info": {
   "codemirror_mode": {
    "name": "ipython",
    "version": 3
   },
   "file_extension": ".py",
   "mimetype": "text/x-python",
   "name": "python",
   "nbconvert_exporter": "python",
   "pygments_lexer": "ipython3",
   "version": "3.6.7"
  }
 },
 "nbformat": 4,
 "nbformat_minor": 2
}
